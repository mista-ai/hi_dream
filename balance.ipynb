{
 "cells": [
  {
   "cell_type": "code",
   "execution_count": 1,
   "id": "07a8013a",
   "metadata": {},
   "outputs": [],
   "source": [
    "import xlrd\n",
    "import pandas as pd\n",
    "import re\n",
    "import datetime"
   ]
  },
  {
   "cell_type": "code",
   "execution_count": 2,
   "id": "9ce73188",
   "metadata": {},
   "outputs": [
    {
     "name": "stdout",
     "output_type": "stream",
     "text": [
      "The number of worksheets is 1\n",
      "Worksheet name(s): ['Лист1']\n",
      "Лист1 261 3\n",
      "Cell A2 is Виктория\n"
     ]
    }
   ],
   "source": [
    "book = xlrd.open_workbook(\"D:\\\\job\\\\hidream\\\\balance.xls\")\n",
    "print(\"The number of worksheets is {0}\".format(book.nsheets))\n",
    "print(\"Worksheet name(s): {0}\".format(book.sheet_names()))\n",
    "sh = book.sheet_by_index(0)\n",
    "print(\"{0} {1} {2}\".format(sh.name, sh.nrows, sh.ncols))\n",
    "print(\"Cell A2 is {0}\".format(sh.cell_value(rowx=3, colx=0)))"
   ]
  },
  {
   "cell_type": "code",
   "execution_count": 3,
   "id": "90ba12eb",
   "metadata": {},
   "outputs": [],
   "source": [
    "output = pd.DataFrame(columns=['Контакт', 'Баланс', 'Дата'])\n",
    "prod_id = 0"
   ]
  },
  {
   "cell_type": "code",
   "execution_count": 4,
   "id": "c33d4509",
   "metadata": {},
   "outputs": [],
   "source": [
    "def earlier(date_1, date_2):\n",
    "    day_1, month_1, year_1 = map(int, date_1.split('.'))\n",
    "    day_2, month_2, year_2 = map(int, date_2.split('.'))\n",
    "    if year_1 > year_2:\n",
    "        return False\n",
    "    elif year_1 < year_2:\n",
    "        return True\n",
    "    else:\n",
    "        if month_1 > month_2:\n",
    "            return False\n",
    "        elif month_1 < month_2:\n",
    "            return True\n",
    "        else:\n",
    "            if day_1 < day_2:\n",
    "                return True\n",
    "            else:\n",
    "                return False"
   ]
  },
  {
   "cell_type": "code",
   "execution_count": 5,
   "id": "074db4bf",
   "metadata": {},
   "outputs": [],
   "source": [
    "for row in range(1, sh.nrows):\n",
    "    cell = sh.cell_value(rowx=row, colx=2)\n",
    "    balances = cell.split(', ')\n",
    "    date = None\n",
    "    balance = None\n",
    "    name = sh.cell_value(rowx=row, colx=0) + ' ' + sh.cell_value(rowx=row, colx=1)\n",
    "    for x in balances:\n",
    "        #need_balance = \n",
    "        splitted = x.split()\n",
    "        date_tmp = splitted[0]\n",
    "        balance_tmp = splitted[-1]\n",
    "        if row > 260:\n",
    "            print(splitted, row)\n",
    "        if not earlier(date_tmp, '04.11.2022'):\n",
    "            break\n",
    "        date = date_tmp\n",
    "        balance = balance_tmp\n",
    "    output.loc[prod_id] = [name, date, balance]\n",
    "    prod_id += 1"
   ]
  },
  {
   "cell_type": "code",
   "execution_count": 6,
   "id": "68fe92e7",
   "metadata": {},
   "outputs": [],
   "source": [
    "output.to_excel('./balanced.xlsx')"
   ]
  }
 ],
 "metadata": {
  "kernelspec": {
   "display_name": "Python 3 (ipykernel)",
   "language": "python",
   "name": "python3"
  },
  "language_info": {
   "codemirror_mode": {
    "name": "ipython",
    "version": 3
   },
   "file_extension": ".py",
   "mimetype": "text/x-python",
   "name": "python",
   "nbconvert_exporter": "python",
   "pygments_lexer": "ipython3",
   "version": "3.9.12"
  }
 },
 "nbformat": 4,
 "nbformat_minor": 5
}
